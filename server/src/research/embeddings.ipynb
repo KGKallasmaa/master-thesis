{
 "cells": [
  {
   "cell_type": "raw",
   "metadata": {},
   "source": [
    "Measure the Eudclidian distance between two images"
   ]
  },
  {
   "cell_type": "code",
   "execution_count": 2,
   "metadata": {},
   "outputs": [
    {
     "name": "stdout",
     "output_type": "stream",
     "text": [
      "Requirement already satisfied: flask==2.0.2 in /opt/homebrew/Cellar/jupyterlab/4.0.3/libexec/lib/python3.11/site-packages (from -r requirements.txt (line 1)) (2.0.2)\n",
      "Requirement already satisfied: pillow==9.3.0 in /opt/homebrew/Cellar/jupyterlab/4.0.3/libexec/lib/python3.11/site-packages (from -r requirements.txt (line 2)) (9.3.0)\n",
      "Requirement already satisfied: pandas==1.4.0 in /opt/homebrew/Cellar/jupyterlab/4.0.3/libexec/lib/python3.11/site-packages (from -r requirements.txt (line 3)) (1.4.0)\n",
      "Requirement already satisfied: scikit-learn==1.3.0 in /opt/homebrew/Cellar/jupyterlab/4.0.3/libexec/lib/python3.11/site-packages (from -r requirements.txt (line 4)) (1.3.0)\n",
      "Requirement already satisfied: flask-cors==3.0.10 in /opt/homebrew/Cellar/jupyterlab/4.0.3/libexec/lib/python3.11/site-packages (from -r requirements.txt (line 5)) (3.0.10)\n",
      "Requirement already satisfied: pymongo==4.3.3 in /opt/homebrew/Cellar/jupyterlab/4.0.3/libexec/lib/python3.11/site-packages (from -r requirements.txt (line 6)) (4.3.3)\n",
      "Requirement already satisfied: numpy>=1.22.1 in /opt/homebrew/Cellar/jupyterlab/4.0.3/libexec/lib/python3.11/site-packages (from -r requirements.txt (line 7)) (1.24.3)\n",
      "Requirement already satisfied: scikit-image==0.19.3 in /opt/homebrew/Cellar/jupyterlab/4.0.3/libexec/lib/python3.11/site-packages (from -r requirements.txt (line 8)) (0.19.3)\n",
      "Requirement already satisfied: pytest==7.1.2 in /opt/homebrew/Cellar/jupyterlab/4.0.3/libexec/lib/python3.11/site-packages (from -r requirements.txt (line 9)) (7.1.2)\n",
      "Requirement already satisfied: dice-ml==0.9 in /opt/homebrew/Cellar/jupyterlab/4.0.3/libexec/lib/python3.11/site-packages (from -r requirements.txt (line 10)) (0.9)\n",
      "Requirement already satisfied: mpire==2.6.0 in /opt/homebrew/Cellar/jupyterlab/4.0.3/libexec/lib/python3.11/site-packages (from -r requirements.txt (line 11)) (2.6.0)\n",
      "Requirement already satisfied: lime==0.2.0.1 in /opt/homebrew/Cellar/jupyterlab/4.0.3/libexec/lib/python3.11/site-packages (from -r requirements.txt (line 12)) (0.2.0.1)\n",
      "Requirement already satisfied: tensorflow==2.13.0 in /opt/homebrew/Cellar/jupyterlab/4.0.3/libexec/lib/python3.11/site-packages (from -r requirements.txt (line 13)) (2.13.0)\n",
      "Requirement already satisfied: matplotlib==3.7.1 in /opt/homebrew/Cellar/jupyterlab/4.0.3/libexec/lib/python3.11/site-packages (from -r requirements.txt (line 14)) (3.7.1)\n",
      "Requirement already satisfied: Werkzeug>=2.0 in /opt/homebrew/Cellar/jupyterlab/4.0.3/libexec/lib/python3.11/site-packages (from flask==2.0.2->-r requirements.txt (line 1)) (2.3.6)\n",
      "Requirement already satisfied: Jinja2>=3.0 in /opt/homebrew/Cellar/jupyterlab/4.0.3/libexec/lib/python3.11/site-packages (from flask==2.0.2->-r requirements.txt (line 1)) (3.1.2)\n",
      "Requirement already satisfied: itsdangerous>=2.0 in /opt/homebrew/Cellar/jupyterlab/4.0.3/libexec/lib/python3.11/site-packages (from flask==2.0.2->-r requirements.txt (line 1)) (2.1.2)\n",
      "Requirement already satisfied: click>=7.1.2 in /opt/homebrew/Cellar/jupyterlab/4.0.3/libexec/lib/python3.11/site-packages (from flask==2.0.2->-r requirements.txt (line 1)) (8.1.6)\n",
      "Requirement already satisfied: python-dateutil>=2.8.1 in /opt/homebrew/Cellar/jupyterlab/4.0.3/libexec/lib/python3.11/site-packages (from pandas==1.4.0->-r requirements.txt (line 3)) (2.8.2)\n",
      "Requirement already satisfied: pytz>=2020.1 in /opt/homebrew/Cellar/jupyterlab/4.0.3/libexec/lib/python3.11/site-packages (from pandas==1.4.0->-r requirements.txt (line 3)) (2023.3)\n",
      "Requirement already satisfied: scipy>=1.5.0 in /opt/homebrew/Cellar/jupyterlab/4.0.3/libexec/lib/python3.11/site-packages (from scikit-learn==1.3.0->-r requirements.txt (line 4)) (1.11.1)\n",
      "Requirement already satisfied: joblib>=1.1.1 in /opt/homebrew/Cellar/jupyterlab/4.0.3/libexec/lib/python3.11/site-packages (from scikit-learn==1.3.0->-r requirements.txt (line 4)) (1.3.1)\n",
      "Requirement already satisfied: threadpoolctl>=2.0.0 in /opt/homebrew/Cellar/jupyterlab/4.0.3/libexec/lib/python3.11/site-packages (from scikit-learn==1.3.0->-r requirements.txt (line 4)) (3.2.0)\n",
      "Requirement already satisfied: Six in /opt/homebrew/opt/six/lib/python3.11/site-packages (from flask-cors==3.0.10->-r requirements.txt (line 5)) (1.16.0)\n",
      "Requirement already satisfied: dnspython<3.0.0,>=1.16.0 in /opt/homebrew/Cellar/jupyterlab/4.0.3/libexec/lib/python3.11/site-packages (from pymongo==4.3.3->-r requirements.txt (line 6)) (2.4.0)\n",
      "Requirement already satisfied: networkx>=2.2 in /opt/homebrew/Cellar/jupyterlab/4.0.3/libexec/lib/python3.11/site-packages (from scikit-image==0.19.3->-r requirements.txt (line 8)) (3.1)\n",
      "Requirement already satisfied: imageio>=2.4.1 in /opt/homebrew/Cellar/jupyterlab/4.0.3/libexec/lib/python3.11/site-packages (from scikit-image==0.19.3->-r requirements.txt (line 8)) (2.31.1)\n",
      "Requirement already satisfied: tifffile>=2019.7.26 in /opt/homebrew/Cellar/jupyterlab/4.0.3/libexec/lib/python3.11/site-packages (from scikit-image==0.19.3->-r requirements.txt (line 8)) (2023.7.18)\n",
      "Requirement already satisfied: PyWavelets>=1.1.1 in /opt/homebrew/Cellar/jupyterlab/4.0.3/libexec/lib/python3.11/site-packages (from scikit-image==0.19.3->-r requirements.txt (line 8)) (1.4.1)\n",
      "Requirement already satisfied: packaging>=20.0 in /opt/homebrew/Cellar/jupyterlab/4.0.3/libexec/lib/python3.11/site-packages (from scikit-image==0.19.3->-r requirements.txt (line 8)) (23.1)\n",
      "Requirement already satisfied: attrs>=19.2.0 in /opt/homebrew/Cellar/jupyterlab/4.0.3/libexec/lib/python3.11/site-packages (from pytest==7.1.2->-r requirements.txt (line 9)) (23.1.0)\n",
      "Requirement already satisfied: iniconfig in /opt/homebrew/Cellar/jupyterlab/4.0.3/libexec/lib/python3.11/site-packages (from pytest==7.1.2->-r requirements.txt (line 9)) (2.0.0)\n",
      "Requirement already satisfied: pluggy<2.0,>=0.12 in /opt/homebrew/Cellar/jupyterlab/4.0.3/libexec/lib/python3.11/site-packages (from pytest==7.1.2->-r requirements.txt (line 9)) (1.2.0)\n",
      "Requirement already satisfied: py>=1.8.2 in /opt/homebrew/Cellar/jupyterlab/4.0.3/libexec/lib/python3.11/site-packages (from pytest==7.1.2->-r requirements.txt (line 9)) (1.11.0)\n",
      "Requirement already satisfied: tomli>=1.0.0 in /opt/homebrew/Cellar/jupyterlab/4.0.3/libexec/lib/python3.11/site-packages (from pytest==7.1.2->-r requirements.txt (line 9)) (2.0.1)\n",
      "Requirement already satisfied: jsonschema in /opt/homebrew/Cellar/jupyterlab/4.0.3/libexec/lib/python3.11/site-packages (from dice-ml==0.9->-r requirements.txt (line 10)) (4.18.3)\n",
      "Requirement already satisfied: h5py in /opt/homebrew/Cellar/jupyterlab/4.0.3/libexec/lib/python3.11/site-packages (from dice-ml==0.9->-r requirements.txt (line 10)) (3.9.0)\n",
      "Requirement already satisfied: tqdm in /opt/homebrew/Cellar/jupyterlab/4.0.3/libexec/lib/python3.11/site-packages (from dice-ml==0.9->-r requirements.txt (line 10)) (4.65.0)\n",
      "Requirement already satisfied: pygments>=2.0 in /opt/homebrew/opt/pygments/lib/python3.11/site-packages (from mpire==2.6.0->-r requirements.txt (line 11)) (2.15.1)\n",
      "Requirement already satisfied: tensorflow-macos==2.13.0 in /opt/homebrew/Cellar/jupyterlab/4.0.3/libexec/lib/python3.11/site-packages (from tensorflow==2.13.0->-r requirements.txt (line 13)) (2.13.0)\n",
      "Requirement already satisfied: contourpy>=1.0.1 in /opt/homebrew/Cellar/jupyterlab/4.0.3/libexec/lib/python3.11/site-packages (from matplotlib==3.7.1->-r requirements.txt (line 14)) (1.1.0)\n",
      "Requirement already satisfied: cycler>=0.10 in /opt/homebrew/Cellar/jupyterlab/4.0.3/libexec/lib/python3.11/site-packages (from matplotlib==3.7.1->-r requirements.txt (line 14)) (0.11.0)\n",
      "Requirement already satisfied: fonttools>=4.22.0 in /opt/homebrew/Cellar/jupyterlab/4.0.3/libexec/lib/python3.11/site-packages (from matplotlib==3.7.1->-r requirements.txt (line 14)) (4.41.1)\n",
      "Requirement already satisfied: kiwisolver>=1.0.1 in /opt/homebrew/Cellar/jupyterlab/4.0.3/libexec/lib/python3.11/site-packages (from matplotlib==3.7.1->-r requirements.txt (line 14)) (1.4.4)\n",
      "Requirement already satisfied: pyparsing>=2.3.1 in /opt/homebrew/Cellar/jupyterlab/4.0.3/libexec/lib/python3.11/site-packages (from matplotlib==3.7.1->-r requirements.txt (line 14)) (3.0.9)\n",
      "Requirement already satisfied: absl-py>=1.0.0 in /opt/homebrew/Cellar/jupyterlab/4.0.3/libexec/lib/python3.11/site-packages (from tensorflow-macos==2.13.0->tensorflow==2.13.0->-r requirements.txt (line 13)) (1.4.0)\n",
      "Requirement already satisfied: astunparse>=1.6.0 in /opt/homebrew/Cellar/jupyterlab/4.0.3/libexec/lib/python3.11/site-packages (from tensorflow-macos==2.13.0->tensorflow==2.13.0->-r requirements.txt (line 13)) (1.6.3)\n",
      "Requirement already satisfied: flatbuffers>=23.1.21 in /opt/homebrew/Cellar/jupyterlab/4.0.3/libexec/lib/python3.11/site-packages (from tensorflow-macos==2.13.0->tensorflow==2.13.0->-r requirements.txt (line 13)) (23.5.26)\n",
      "Requirement already satisfied: gast<=0.4.0,>=0.2.1 in /opt/homebrew/Cellar/jupyterlab/4.0.3/libexec/lib/python3.11/site-packages (from tensorflow-macos==2.13.0->tensorflow==2.13.0->-r requirements.txt (line 13)) (0.4.0)\n",
      "Requirement already satisfied: google-pasta>=0.1.1 in /opt/homebrew/Cellar/jupyterlab/4.0.3/libexec/lib/python3.11/site-packages (from tensorflow-macos==2.13.0->tensorflow==2.13.0->-r requirements.txt (line 13)) (0.2.0)\n",
      "Requirement already satisfied: libclang>=13.0.0 in /opt/homebrew/Cellar/jupyterlab/4.0.3/libexec/lib/python3.11/site-packages (from tensorflow-macos==2.13.0->tensorflow==2.13.0->-r requirements.txt (line 13)) (16.0.6)\n",
      "Requirement already satisfied: opt-einsum>=2.3.2 in /opt/homebrew/Cellar/jupyterlab/4.0.3/libexec/lib/python3.11/site-packages (from tensorflow-macos==2.13.0->tensorflow==2.13.0->-r requirements.txt (line 13)) (3.3.0)\n",
      "Requirement already satisfied: protobuf!=4.21.0,!=4.21.1,!=4.21.2,!=4.21.3,!=4.21.4,!=4.21.5,<5.0.0dev,>=3.20.3 in /opt/homebrew/lib/python3.11/site-packages (from tensorflow-macos==2.13.0->tensorflow==2.13.0->-r requirements.txt (line 13)) (4.21.12)\n",
      "Requirement already satisfied: setuptools in /opt/homebrew/Cellar/jupyterlab/4.0.3/libexec/lib/python3.11/site-packages (from tensorflow-macos==2.13.0->tensorflow==2.13.0->-r requirements.txt (line 13)) (67.6.1)\n",
      "Requirement already satisfied: termcolor>=1.1.0 in /opt/homebrew/Cellar/jupyterlab/4.0.3/libexec/lib/python3.11/site-packages (from tensorflow-macos==2.13.0->tensorflow==2.13.0->-r requirements.txt (line 13)) (2.3.0)\n",
      "Requirement already satisfied: typing-extensions<4.6.0,>=3.6.6 in /opt/homebrew/Cellar/jupyterlab/4.0.3/libexec/lib/python3.11/site-packages (from tensorflow-macos==2.13.0->tensorflow==2.13.0->-r requirements.txt (line 13)) (4.5.0)\n",
      "Requirement already satisfied: wrapt>=1.11.0 in /opt/homebrew/Cellar/jupyterlab/4.0.3/libexec/lib/python3.11/site-packages (from tensorflow-macos==2.13.0->tensorflow==2.13.0->-r requirements.txt (line 13)) (1.15.0)\n",
      "Requirement already satisfied: grpcio<2.0,>=1.24.3 in /opt/homebrew/Cellar/jupyterlab/4.0.3/libexec/lib/python3.11/site-packages (from tensorflow-macos==2.13.0->tensorflow==2.13.0->-r requirements.txt (line 13)) (1.56.2)\n",
      "Requirement already satisfied: tensorboard<2.14,>=2.13 in /opt/homebrew/Cellar/jupyterlab/4.0.3/libexec/lib/python3.11/site-packages (from tensorflow-macos==2.13.0->tensorflow==2.13.0->-r requirements.txt (line 13)) (2.13.0)\n",
      "Requirement already satisfied: tensorflow-estimator<2.14,>=2.13.0 in /opt/homebrew/Cellar/jupyterlab/4.0.3/libexec/lib/python3.11/site-packages (from tensorflow-macos==2.13.0->tensorflow==2.13.0->-r requirements.txt (line 13)) (2.13.0)\n",
      "Requirement already satisfied: keras<2.14,>=2.13.1 in /opt/homebrew/Cellar/jupyterlab/4.0.3/libexec/lib/python3.11/site-packages (from tensorflow-macos==2.13.0->tensorflow==2.13.0->-r requirements.txt (line 13)) (2.13.1)\n"
     ]
    },
    {
     "name": "stdout",
     "output_type": "stream",
     "text": [
      "Requirement already satisfied: httpcore>=0.17.3 in /opt/homebrew/Cellar/jupyterlab/4.0.3/libexec/lib/python3.11/site-packages (from dnspython<3.0.0,>=1.16.0->pymongo==4.3.3->-r requirements.txt (line 6)) (0.17.3)\n",
      "Requirement already satisfied: sniffio<2.0,>=1.1 in /opt/homebrew/Cellar/jupyterlab/4.0.3/libexec/lib/python3.11/site-packages (from dnspython<3.0.0,>=1.16.0->pymongo==4.3.3->-r requirements.txt (line 6)) (1.3.0)\n",
      "Requirement already satisfied: MarkupSafe>=2.0 in /opt/homebrew/Cellar/jupyterlab/4.0.3/libexec/lib/python3.11/site-packages (from Jinja2>=3.0->flask==2.0.2->-r requirements.txt (line 1)) (2.1.3)\n",
      "Requirement already satisfied: jsonschema-specifications>=2023.03.6 in /opt/homebrew/Cellar/jupyterlab/4.0.3/libexec/lib/python3.11/site-packages (from jsonschema->dice-ml==0.9->-r requirements.txt (line 10)) (2023.6.1)\n",
      "Requirement already satisfied: referencing>=0.28.4 in /opt/homebrew/Cellar/jupyterlab/4.0.3/libexec/lib/python3.11/site-packages (from jsonschema->dice-ml==0.9->-r requirements.txt (line 10)) (0.29.1)\n",
      "Requirement already satisfied: rpds-py>=0.7.1 in /opt/homebrew/Cellar/jupyterlab/4.0.3/libexec/lib/python3.11/site-packages (from jsonschema->dice-ml==0.9->-r requirements.txt (line 10)) (0.8.10)\n",
      "Requirement already satisfied: wheel<1.0,>=0.23.0 in /opt/homebrew/lib/python3.11/site-packages (from astunparse>=1.6.0->tensorflow-macos==2.13.0->tensorflow==2.13.0->-r requirements.txt (line 13)) (0.40.0)\n",
      "Requirement already satisfied: h11<0.15,>=0.13 in /opt/homebrew/Cellar/jupyterlab/4.0.3/libexec/lib/python3.11/site-packages (from httpcore>=0.17.3->dnspython<3.0.0,>=1.16.0->pymongo==4.3.3->-r requirements.txt (line 6)) (0.14.0)\n",
      "Requirement already satisfied: anyio<5.0,>=3.0 in /opt/homebrew/Cellar/jupyterlab/4.0.3/libexec/lib/python3.11/site-packages (from httpcore>=0.17.3->dnspython<3.0.0,>=1.16.0->pymongo==4.3.3->-r requirements.txt (line 6)) (3.7.1)\n",
      "Requirement already satisfied: certifi in /opt/homebrew/Cellar/jupyterlab/4.0.3/libexec/lib/python3.11/site-packages (from httpcore>=0.17.3->dnspython<3.0.0,>=1.16.0->pymongo==4.3.3->-r requirements.txt (line 6)) (2023.5.7)\n",
      "Requirement already satisfied: google-auth<3,>=1.6.3 in /opt/homebrew/Cellar/jupyterlab/4.0.3/libexec/lib/python3.11/site-packages (from tensorboard<2.14,>=2.13->tensorflow-macos==2.13.0->tensorflow==2.13.0->-r requirements.txt (line 13)) (2.22.0)\n",
      "Requirement already satisfied: google-auth-oauthlib<1.1,>=0.5 in /opt/homebrew/Cellar/jupyterlab/4.0.3/libexec/lib/python3.11/site-packages (from tensorboard<2.14,>=2.13->tensorflow-macos==2.13.0->tensorflow==2.13.0->-r requirements.txt (line 13)) (1.0.0)\n",
      "Requirement already satisfied: markdown>=2.6.8 in /opt/homebrew/Cellar/jupyterlab/4.0.3/libexec/lib/python3.11/site-packages (from tensorboard<2.14,>=2.13->tensorflow-macos==2.13.0->tensorflow==2.13.0->-r requirements.txt (line 13)) (3.4.3)\n",
      "Requirement already satisfied: requests<3,>=2.21.0 in /opt/homebrew/Cellar/jupyterlab/4.0.3/libexec/lib/python3.11/site-packages (from tensorboard<2.14,>=2.13->tensorflow-macos==2.13.0->tensorflow==2.13.0->-r requirements.txt (line 13)) (2.31.0)\n",
      "Requirement already satisfied: tensorboard-data-server<0.8.0,>=0.7.0 in /opt/homebrew/Cellar/jupyterlab/4.0.3/libexec/lib/python3.11/site-packages (from tensorboard<2.14,>=2.13->tensorflow-macos==2.13.0->tensorflow==2.13.0->-r requirements.txt (line 13)) (0.7.1)\n",
      "Requirement already satisfied: idna>=2.8 in /opt/homebrew/Cellar/jupyterlab/4.0.3/libexec/lib/python3.11/site-packages (from anyio<5.0,>=3.0->httpcore>=0.17.3->dnspython<3.0.0,>=1.16.0->pymongo==4.3.3->-r requirements.txt (line 6)) (3.4)\n",
      "Requirement already satisfied: cachetools<6.0,>=2.0.0 in /opt/homebrew/Cellar/jupyterlab/4.0.3/libexec/lib/python3.11/site-packages (from google-auth<3,>=1.6.3->tensorboard<2.14,>=2.13->tensorflow-macos==2.13.0->tensorflow==2.13.0->-r requirements.txt (line 13)) (5.3.1)\n",
      "Requirement already satisfied: pyasn1-modules>=0.2.1 in /opt/homebrew/Cellar/jupyterlab/4.0.3/libexec/lib/python3.11/site-packages (from google-auth<3,>=1.6.3->tensorboard<2.14,>=2.13->tensorflow-macos==2.13.0->tensorflow==2.13.0->-r requirements.txt (line 13)) (0.3.0)\n",
      "Requirement already satisfied: rsa<5,>=3.1.4 in /opt/homebrew/Cellar/jupyterlab/4.0.3/libexec/lib/python3.11/site-packages (from google-auth<3,>=1.6.3->tensorboard<2.14,>=2.13->tensorflow-macos==2.13.0->tensorflow==2.13.0->-r requirements.txt (line 13)) (4.9)\n",
      "Requirement already satisfied: urllib3<2.0 in /opt/homebrew/Cellar/jupyterlab/4.0.3/libexec/lib/python3.11/site-packages (from google-auth<3,>=1.6.3->tensorboard<2.14,>=2.13->tensorflow-macos==2.13.0->tensorflow==2.13.0->-r requirements.txt (line 13)) (1.26.16)\n",
      "Requirement already satisfied: requests-oauthlib>=0.7.0 in /opt/homebrew/Cellar/jupyterlab/4.0.3/libexec/lib/python3.11/site-packages (from google-auth-oauthlib<1.1,>=0.5->tensorboard<2.14,>=2.13->tensorflow-macos==2.13.0->tensorflow==2.13.0->-r requirements.txt (line 13)) (1.3.1)\n",
      "Requirement already satisfied: charset-normalizer<4,>=2 in /opt/homebrew/Cellar/jupyterlab/4.0.3/libexec/lib/python3.11/site-packages (from requests<3,>=2.21.0->tensorboard<2.14,>=2.13->tensorflow-macos==2.13.0->tensorflow==2.13.0->-r requirements.txt (line 13)) (3.2.0)\n",
      "Requirement already satisfied: pyasn1<0.6.0,>=0.4.6 in /opt/homebrew/Cellar/jupyterlab/4.0.3/libexec/lib/python3.11/site-packages (from pyasn1-modules>=0.2.1->google-auth<3,>=1.6.3->tensorboard<2.14,>=2.13->tensorflow-macos==2.13.0->tensorflow==2.13.0->-r requirements.txt (line 13)) (0.5.0)\n",
      "Requirement already satisfied: oauthlib>=3.0.0 in /opt/homebrew/Cellar/jupyterlab/4.0.3/libexec/lib/python3.11/site-packages (from requests-oauthlib>=0.7.0->google-auth-oauthlib<1.1,>=0.5->tensorboard<2.14,>=2.13->tensorflow-macos==2.13.0->tensorflow==2.13.0->-r requirements.txt (line 13)) (3.2.2)\n",
      "\n",
      "\u001B[1m[\u001B[0m\u001B[34;49mnotice\u001B[0m\u001B[1;39;49m]\u001B[0m\u001B[39;49m A new release of pip is available: \u001B[0m\u001B[31;49m23.0.1\u001B[0m\u001B[39;49m -> \u001B[0m\u001B[32;49m23.2.1\u001B[0m\n",
      "\u001B[1m[\u001B[0m\u001B[34;49mnotice\u001B[0m\u001B[1;39;49m]\u001B[0m\u001B[39;49m To update, run: \u001B[0m\u001B[32;49mpython3.11 -m pip install --upgrade pip\u001B[0m\n",
      "Note: you may need to restart the kernel to use updated packages.\n"
     ]
    }
   ],
   "source": [
    "pip install -r  requirements.txt -q"
   ]
  },
  {
   "cell_type": "code",
   "execution_count": 39,
   "outputs": [],
   "source": [
    "from PIL import Image\n",
    "\n",
    "base_path = \"/Users/karlgustav/Documents/GitHub/study/master-thesis/server/src/research/\"\n",
    "img1_path = f\"{base_path}data/img1.png\"\n",
    "img2_path = f\"{base_path}data/img2.png\"\n",
    "img3_path = f\"{base_path}data/img3.png\"\n",
    "img4_path = f\"{base_path}data/img4.png\"\n",
    "\n",
    "img1 = np.array(Image.open(img1_path))\n",
    "img2 = np.array(Image.open(img2_path))\n",
    "img3 = np.array(Image.open(img3_path))\n",
    "img4 = np.array(Image.open(img4_path))"
   ],
   "metadata": {
    "collapsed": false
   }
  },
  {
   "cell_type": "code",
   "execution_count": 40,
   "metadata": {},
   "outputs": [],
   "source": [
    "import numpy as np\n",
    "def euclidean_distance(a: np.array, b: np.array, allow_not_equal=False) -> float:\n",
    "    if a.shape == b.shape:\n",
    "        return np.linalg.norm(a - b)\n",
    "    if allow_not_equal is False:\n",
    "        raise ValueError(f\"Images must have the same shape. a.shape: {a.shape}, b.shape: {b.shape}\")\n",
    "\n",
    "    a_number_of_rows, a_number_of_col = a.shape\n",
    "    b_number_of_rows, b_number_of_col = b.shape\n",
    "\n",
    "    rows, columns = min(a_number_of_rows, b_number_of_rows), min(a_number_of_col, b_number_of_col)\n",
    "\n",
    "    if a_number_of_rows != rows or a_number_of_col != columns:\n",
    "        a = np.resize(a, (rows, columns))\n",
    "    if b_number_of_rows != rows or b_number_of_col != columns:\n",
    "        b = np.resize(b, (rows, columns))\n",
    "\n",
    "    return euclidean_distance(a, b)"
   ]
  },
  {
   "cell_type": "code",
   "execution_count": 49,
   "metadata": {},
   "outputs": [
    {
     "name": "stdout",
     "output_type": "stream",
     "text": [
      "1/1 [==============================] - 0s 438ms/step\n"
     ]
    }
   ],
   "source": [
    "\n",
    "import numpy as np\n",
    "import tensorflow as tf\n",
    "from tensorflow.keras.preprocessing.image import img_to_array\n",
    "from tensorflow.keras.applications.resnet50 import ResNet50, preprocess_input\n",
    "\n",
    "# Load ResNet-50 model pre-trained on ImageNet\n",
    "blackbox_model = ResNet50(weights='imagenet', include_top=False, input_shape=(224, 224, 3))\n",
    "\n",
    "def convert_to_rgb(image):\n",
    "    # If the image has an alpha channel, remove it to convert to RGB\n",
    "    if image.shape[-1] == 4:\n",
    "        image = image[..., :3]\n",
    "    return image\n",
    "\n",
    "def preprocess_images(img_array):\n",
    "    img_array = np.array([tf.image.resize(img_to_array(convert_to_rgb(img)), (224, 224)) for img in img_array])\n",
    "    return preprocess_input(img_array)\n",
    "\n",
    "def get_image_embedding(images):\n",
    "    return blackbox_model.predict(images)\n",
    "\n",
    "array = preprocess_images([img1,img2,img3,img4])\n",
    "embeddings = get_image_embedding(array)"
   ]
  },
  {
   "cell_type": "markdown",
   "metadata": {},
   "source": [
    "Analysis"
   ]
  },
  {
   "cell_type": "code",
   "execution_count": 53,
   "metadata": {},
   "outputs": [],
   "source": [
    "imgnr_img = {1:img1,2:img2,3:img3,4:img4}\n",
    "img_pairs = {1:[1,2,3,4],2:[1,2,3,4],3:[1,2,3,4],4:[1,2,3,4]}"
   ]
  },
  {
   "cell_type": "code",
   "execution_count": 54,
   "metadata": {},
   "outputs": [
    {
     "name": "stdout",
     "output_type": "stream",
     "text": [
      "Euclidian distance between image 1 and image 1 is 0.0\n",
      "Euclidian distance between image 1 embedding and image 1 embedding is 0.0\n",
      "Euclidian distance between image 1 and image 2 is 6410.0\n",
      "Euclidian distance between image 1 embedding and image 2 embedding is 572.0\n",
      "Euclidian distance between image 1 and image 3 is 6786.0\n",
      "Euclidian distance between image 1 embedding and image 3 embedding is 510.0\n",
      "Euclidian distance between image 1 and image 4 is 1479.0\n",
      "Euclidian distance between image 1 embedding and image 4 embedding is 586.0\n",
      "Euclidian distance between image 2 and image 1 is 2337.0\n",
      "Euclidian distance between image 2 embedding and image 1 embedding is 572.0\n",
      "Euclidian distance between image 2 and image 2 is 0.0\n",
      "Euclidian distance between image 2 embedding and image 2 embedding is 0.0\n",
      "Euclidian distance between image 2 and image 3 is 0.0\n",
      "Euclidian distance between image 2 embedding and image 3 embedding is 557.0\n",
      "Euclidian distance between image 2 and image 4 is 3172.0\n",
      "Euclidian distance between image 2 embedding and image 4 embedding is 444.0\n",
      "Euclidian distance between image 3 and image 1 is 2436.0\n",
      "Euclidian distance between image 3 embedding and image 1 embedding is 510.0\n",
      "Euclidian distance between image 3 and image 2 is 0.0\n",
      "Euclidian distance between image 3 embedding and image 2 embedding is 557.0\n",
      "Euclidian distance between image 3 and image 3 is 0.0\n",
      "Euclidian distance between image 3 embedding and image 3 embedding is 0.0\n",
      "Euclidian distance between image 3 and image 4 is 3172.0\n",
      "Euclidian distance between image 3 embedding and image 4 embedding is 553.0\n",
      "Euclidian distance between image 4 and image 1 is 7751.0\n",
      "Euclidian distance between image 4 embedding and image 1 embedding is 586.0\n",
      "Euclidian distance between image 4 and image 2 is 5553.0\n",
      "Euclidian distance between image 4 embedding and image 2 embedding is 444.0\n",
      "Euclidian distance between image 4 and image 3 is 5553.0\n",
      "Euclidian distance between image 4 embedding and image 3 embedding is 553.0\n",
      "Euclidian distance between image 4 and image 4 is 0.0\n",
      "Euclidian distance between image 4 embedding and image 4 embedding is 0.0\n"
     ]
    }
   ],
   "source": [
    "def raw_distance_results():\n",
    "    for img_nr,pairs in img_pairs.items():\n",
    "        my_img = imgnr_img[img_nr]\n",
    "        for pair_nr in pairs:\n",
    "            my_pair = imgnr_img[pair_nr]\n",
    "            dist1 = euclidean_distance(my_img[0],my_pair[0],allow_not_equal=True)\n",
    "            print(\"Euclidian distance between image \"+str(img_nr)+\" and image \"+str(pair_nr)+\" is \"+str(round(dist1,0)))\n",
    "            embedding1 = embeddings[img_nr-1]\n",
    "            embedding2 = embeddings[pair_nr-1]\n",
    "            dist2 = euclidean_distance(embedding1 ,embedding2)\n",
    "            print(\"Euclidian distance between image \"+str(img_nr)+\" embedding and image \"+str(pair_nr)+\" embedding is \"+str(round(dist2,0)))\n",
    "raw_distance_results()"
   ]
  },
  {
   "cell_type": "code",
   "execution_count": 60,
   "metadata": {},
   "outputs": [
    {
     "name": "stdout",
     "output_type": "stream",
     "text": [
      "Closest using image euclidian disntances\n",
      "{1: 0, 2: 6410, 3: 6786, 4: 1479}\n",
      "Closest using image embedding euclidian disntances\n",
      "{1: 0.0, 2: 572.1848, 3: 509.5003, 4: 585.7291}\n"
     ]
    }
   ],
   "source": [
    "def closest_images(img_nr):\n",
    "    my_img = imgnr_img[img_nr]\n",
    "    pairs = img_pairs[img_nr]\n",
    "    \n",
    "    imgnr_distance_img = {}\n",
    "    imgnr_distance_img_emb = {}\n",
    "        \n",
    "    for pair_nr in pairs:\n",
    "        my_pair = imgnr_img[pair_nr]\n",
    "        dist1 = euclidean_distance(my_img[0],my_pair[0],allow_not_equal=True)\n",
    "        imgnr_distance_img[pair_nr] = round(dist1)\n",
    "        \n",
    "        embedding1 = embeddings[img_nr-1]\n",
    "        embedding2 = embeddings[pair_nr-1]\n",
    "        dist2 = euclidean_distance(embedding1 ,embedding2)\n",
    "        imgnr_distance_img_emb[pair_nr] = dist2\n",
    "        \n",
    "    print(\"Closest using image euclidian disntances\")\n",
    "    print(imgnr_distance_img)\n",
    "    print(\"Closest using image embedding euclidian disntances\")\n",
    "    print(imgnr_distance_img_emb)\n",
    "\n",
    "closest_images(1)"
   ]
  },
  {
   "cell_type": "code",
   "execution_count": null,
   "metadata": {},
   "outputs": [],
   "source": []
  }
 ],
 "metadata": {
  "kernelspec": {
   "display_name": "Python 3 (ipykernel)",
   "language": "python",
   "name": "python3"
  },
  "language_info": {
   "codemirror_mode": {
    "name": "ipython",
    "version": 3
   },
   "file_extension": ".py",
   "mimetype": "text/x-python",
   "name": "python",
   "nbconvert_exporter": "python",
   "pygments_lexer": "ipython3",
   "version": "3.11.4"
  }
 },
 "nbformat": 4,
 "nbformat_minor": 1
}
