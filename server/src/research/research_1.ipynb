{
 "cells": [
  {
   "cell_type": "markdown",
   "metadata": {},
   "source": [
    "Research question 1: Do concept-based explanations produce more faithful explanations than feature attribution methods?"
   ]
  },
  {
   "cell_type": "code",
   "execution_count": 1,
   "metadata": {
    "is_executing": true
   },
   "outputs": [
    {
     "name": "stdout",
     "output_type": "stream",
     "text": [
      "Requirement already satisfied: flask==2.0.2 in /opt/homebrew/Cellar/jupyterlab/4.0.3/libexec/lib/python3.11/site-packages (from -r requirements.txt (line 1)) (2.0.2)\n",
      "Requirement already satisfied: pillow==9.3.0 in /opt/homebrew/Cellar/jupyterlab/4.0.3/libexec/lib/python3.11/site-packages (from -r requirements.txt (line 2)) (9.3.0)\n",
      "Requirement already satisfied: pandas==1.4.0 in /opt/homebrew/Cellar/jupyterlab/4.0.3/libexec/lib/python3.11/site-packages (from -r requirements.txt (line 3)) (1.4.0)\n",
      "Requirement already satisfied: scikit-learn==1.3.0 in /opt/homebrew/Cellar/jupyterlab/4.0.3/libexec/lib/python3.11/site-packages (from -r requirements.txt (line 4)) (1.3.0)\n",
      "Requirement already satisfied: flask-cors==3.0.10 in /opt/homebrew/Cellar/jupyterlab/4.0.3/libexec/lib/python3.11/site-packages (from -r requirements.txt (line 5)) (3.0.10)\n",
      "Requirement already satisfied: pymongo==4.3.3 in /opt/homebrew/Cellar/jupyterlab/4.0.3/libexec/lib/python3.11/site-packages (from -r requirements.txt (line 6)) (4.3.3)\n",
      "Requirement already satisfied: numpy>=1.22.1 in /opt/homebrew/Cellar/jupyterlab/4.0.3/libexec/lib/python3.11/site-packages (from -r requirements.txt (line 7)) (1.24.3)\n",
      "Requirement already satisfied: scikit-image==0.19.3 in /opt/homebrew/Cellar/jupyterlab/4.0.3/libexec/lib/python3.11/site-packages (from -r requirements.txt (line 8)) (0.19.3)\n",
      "Requirement already satisfied: pytest==7.1.2 in /opt/homebrew/Cellar/jupyterlab/4.0.3/libexec/lib/python3.11/site-packages (from -r requirements.txt (line 9)) (7.1.2)\n",
      "Requirement already satisfied: dice-ml==0.9 in /opt/homebrew/Cellar/jupyterlab/4.0.3/libexec/lib/python3.11/site-packages (from -r requirements.txt (line 10)) (0.9)\n",
      "Requirement already satisfied: mpire==2.6.0 in /opt/homebrew/Cellar/jupyterlab/4.0.3/libexec/lib/python3.11/site-packages (from -r requirements.txt (line 11)) (2.6.0)\n",
      "Requirement already satisfied: lime==0.2.0.1 in /opt/homebrew/Cellar/jupyterlab/4.0.3/libexec/lib/python3.11/site-packages (from -r requirements.txt (line 12)) (0.2.0.1)\n",
      "Requirement already satisfied: tensorflow==2.13.0 in /opt/homebrew/Cellar/jupyterlab/4.0.3/libexec/lib/python3.11/site-packages (from -r requirements.txt (line 13)) (2.13.0)\n",
      "Requirement already satisfied: Werkzeug>=2.0 in /opt/homebrew/Cellar/jupyterlab/4.0.3/libexec/lib/python3.11/site-packages (from flask==2.0.2->-r requirements.txt (line 1)) (2.3.6)\n",
      "Requirement already satisfied: Jinja2>=3.0 in /opt/homebrew/Cellar/jupyterlab/4.0.3/libexec/lib/python3.11/site-packages (from flask==2.0.2->-r requirements.txt (line 1)) (3.1.2)\n",
      "Requirement already satisfied: itsdangerous>=2.0 in /opt/homebrew/Cellar/jupyterlab/4.0.3/libexec/lib/python3.11/site-packages (from flask==2.0.2->-r requirements.txt (line 1)) (2.1.2)\n",
      "Requirement already satisfied: click>=7.1.2 in /opt/homebrew/Cellar/jupyterlab/4.0.3/libexec/lib/python3.11/site-packages (from flask==2.0.2->-r requirements.txt (line 1)) (8.1.6)\n",
      "Requirement already satisfied: python-dateutil>=2.8.1 in /opt/homebrew/Cellar/jupyterlab/4.0.3/libexec/lib/python3.11/site-packages (from pandas==1.4.0->-r requirements.txt (line 3)) (2.8.2)\n",
      "Requirement already satisfied: pytz>=2020.1 in /opt/homebrew/Cellar/jupyterlab/4.0.3/libexec/lib/python3.11/site-packages (from pandas==1.4.0->-r requirements.txt (line 3)) (2023.3)\n",
      "Requirement already satisfied: scipy>=1.5.0 in /opt/homebrew/Cellar/jupyterlab/4.0.3/libexec/lib/python3.11/site-packages (from scikit-learn==1.3.0->-r requirements.txt (line 4)) (1.11.1)\n",
      "Requirement already satisfied: joblib>=1.1.1 in /opt/homebrew/Cellar/jupyterlab/4.0.3/libexec/lib/python3.11/site-packages (from scikit-learn==1.3.0->-r requirements.txt (line 4)) (1.3.1)\n",
      "Requirement already satisfied: threadpoolctl>=2.0.0 in /opt/homebrew/Cellar/jupyterlab/4.0.3/libexec/lib/python3.11/site-packages (from scikit-learn==1.3.0->-r requirements.txt (line 4)) (3.2.0)\n",
      "Requirement already satisfied: Six in /opt/homebrew/opt/six/lib/python3.11/site-packages (from flask-cors==3.0.10->-r requirements.txt (line 5)) (1.16.0)\n",
      "Requirement already satisfied: dnspython<3.0.0,>=1.16.0 in /opt/homebrew/Cellar/jupyterlab/4.0.3/libexec/lib/python3.11/site-packages (from pymongo==4.3.3->-r requirements.txt (line 6)) (2.4.0)\n",
      "Requirement already satisfied: networkx>=2.2 in /opt/homebrew/Cellar/jupyterlab/4.0.3/libexec/lib/python3.11/site-packages (from scikit-image==0.19.3->-r requirements.txt (line 8)) (3.1)\n",
      "Requirement already satisfied: imageio>=2.4.1 in /opt/homebrew/Cellar/jupyterlab/4.0.3/libexec/lib/python3.11/site-packages (from scikit-image==0.19.3->-r requirements.txt (line 8)) (2.31.1)\n",
      "Requirement already satisfied: tifffile>=2019.7.26 in /opt/homebrew/Cellar/jupyterlab/4.0.3/libexec/lib/python3.11/site-packages (from scikit-image==0.19.3->-r requirements.txt (line 8)) (2023.7.18)\n",
      "Requirement already satisfied: PyWavelets>=1.1.1 in /opt/homebrew/Cellar/jupyterlab/4.0.3/libexec/lib/python3.11/site-packages (from scikit-image==0.19.3->-r requirements.txt (line 8)) (1.4.1)\n",
      "Requirement already satisfied: packaging>=20.0 in /opt/homebrew/Cellar/jupyterlab/4.0.3/libexec/lib/python3.11/site-packages (from scikit-image==0.19.3->-r requirements.txt (line 8)) (23.1)\n",
      "Requirement already satisfied: attrs>=19.2.0 in /opt/homebrew/Cellar/jupyterlab/4.0.3/libexec/lib/python3.11/site-packages (from pytest==7.1.2->-r requirements.txt (line 9)) (23.1.0)\n",
      "Requirement already satisfied: iniconfig in /opt/homebrew/Cellar/jupyterlab/4.0.3/libexec/lib/python3.11/site-packages (from pytest==7.1.2->-r requirements.txt (line 9)) (2.0.0)\n",
      "Requirement already satisfied: pluggy<2.0,>=0.12 in /opt/homebrew/Cellar/jupyterlab/4.0.3/libexec/lib/python3.11/site-packages (from pytest==7.1.2->-r requirements.txt (line 9)) (1.2.0)\n",
      "Requirement already satisfied: py>=1.8.2 in /opt/homebrew/Cellar/jupyterlab/4.0.3/libexec/lib/python3.11/site-packages (from pytest==7.1.2->-r requirements.txt (line 9)) (1.11.0)\n",
      "Requirement already satisfied: tomli>=1.0.0 in /opt/homebrew/Cellar/jupyterlab/4.0.3/libexec/lib/python3.11/site-packages (from pytest==7.1.2->-r requirements.txt (line 9)) (2.0.1)\n",
      "Requirement already satisfied: jsonschema in /opt/homebrew/Cellar/jupyterlab/4.0.3/libexec/lib/python3.11/site-packages (from dice-ml==0.9->-r requirements.txt (line 10)) (4.18.3)\n",
      "Requirement already satisfied: h5py in /opt/homebrew/Cellar/jupyterlab/4.0.3/libexec/lib/python3.11/site-packages (from dice-ml==0.9->-r requirements.txt (line 10)) (3.9.0)\n",
      "Requirement already satisfied: tqdm in /opt/homebrew/Cellar/jupyterlab/4.0.3/libexec/lib/python3.11/site-packages (from dice-ml==0.9->-r requirements.txt (line 10)) (4.65.0)\n",
      "Requirement already satisfied: pygments>=2.0 in /opt/homebrew/opt/pygments/lib/python3.11/site-packages (from mpire==2.6.0->-r requirements.txt (line 11)) (2.15.1)\n",
      "Requirement already satisfied: matplotlib in /opt/homebrew/Cellar/jupyterlab/4.0.3/libexec/lib/python3.11/site-packages (from lime==0.2.0.1->-r requirements.txt (line 12)) (3.7.2)\n",
      "Requirement already satisfied: tensorflow-macos==2.13.0 in /opt/homebrew/Cellar/jupyterlab/4.0.3/libexec/lib/python3.11/site-packages (from tensorflow==2.13.0->-r requirements.txt (line 13)) (2.13.0)\n",
      "Requirement already satisfied: absl-py>=1.0.0 in /opt/homebrew/Cellar/jupyterlab/4.0.3/libexec/lib/python3.11/site-packages (from tensorflow-macos==2.13.0->tensorflow==2.13.0->-r requirements.txt (line 13)) (1.4.0)\n",
      "Requirement already satisfied: astunparse>=1.6.0 in /opt/homebrew/Cellar/jupyterlab/4.0.3/libexec/lib/python3.11/site-packages (from tensorflow-macos==2.13.0->tensorflow==2.13.0->-r requirements.txt (line 13)) (1.6.3)\n",
      "Requirement already satisfied: flatbuffers>=23.1.21 in /opt/homebrew/Cellar/jupyterlab/4.0.3/libexec/lib/python3.11/site-packages (from tensorflow-macos==2.13.0->tensorflow==2.13.0->-r requirements.txt (line 13)) (23.5.26)\n",
      "Requirement already satisfied: gast<=0.4.0,>=0.2.1 in /opt/homebrew/Cellar/jupyterlab/4.0.3/libexec/lib/python3.11/site-packages (from tensorflow-macos==2.13.0->tensorflow==2.13.0->-r requirements.txt (line 13)) (0.4.0)\n",
      "Requirement already satisfied: google-pasta>=0.1.1 in /opt/homebrew/Cellar/jupyterlab/4.0.3/libexec/lib/python3.11/site-packages (from tensorflow-macos==2.13.0->tensorflow==2.13.0->-r requirements.txt (line 13)) (0.2.0)\n",
      "Requirement already satisfied: libclang>=13.0.0 in /opt/homebrew/Cellar/jupyterlab/4.0.3/libexec/lib/python3.11/site-packages (from tensorflow-macos==2.13.0->tensorflow==2.13.0->-r requirements.txt (line 13)) (16.0.6)\n",
      "Requirement already satisfied: opt-einsum>=2.3.2 in /opt/homebrew/Cellar/jupyterlab/4.0.3/libexec/lib/python3.11/site-packages (from tensorflow-macos==2.13.0->tensorflow==2.13.0->-r requirements.txt (line 13)) (3.3.0)\n",
      "Requirement already satisfied: protobuf!=4.21.0,!=4.21.1,!=4.21.2,!=4.21.3,!=4.21.4,!=4.21.5,<5.0.0dev,>=3.20.3 in /opt/homebrew/lib/python3.11/site-packages (from tensorflow-macos==2.13.0->tensorflow==2.13.0->-r requirements.txt (line 13)) (4.21.12)\n",
      "Requirement already satisfied: setuptools in /opt/homebrew/Cellar/jupyterlab/4.0.3/libexec/lib/python3.11/site-packages (from tensorflow-macos==2.13.0->tensorflow==2.13.0->-r requirements.txt (line 13)) (67.6.1)\n",
      "Requirement already satisfied: termcolor>=1.1.0 in /opt/homebrew/Cellar/jupyterlab/4.0.3/libexec/lib/python3.11/site-packages (from tensorflow-macos==2.13.0->tensorflow==2.13.0->-r requirements.txt (line 13)) (2.3.0)\n",
      "Requirement already satisfied: typing-extensions<4.6.0,>=3.6.6 in /opt/homebrew/Cellar/jupyterlab/4.0.3/libexec/lib/python3.11/site-packages (from tensorflow-macos==2.13.0->tensorflow==2.13.0->-r requirements.txt (line 13)) (4.5.0)\n",
      "Requirement already satisfied: wrapt>=1.11.0 in /opt/homebrew/Cellar/jupyterlab/4.0.3/libexec/lib/python3.11/site-packages (from tensorflow-macos==2.13.0->tensorflow==2.13.0->-r requirements.txt (line 13)) (1.15.0)\n",
      "Requirement already satisfied: grpcio<2.0,>=1.24.3 in /opt/homebrew/Cellar/jupyterlab/4.0.3/libexec/lib/python3.11/site-packages (from tensorflow-macos==2.13.0->tensorflow==2.13.0->-r requirements.txt (line 13)) (1.56.2)\n",
      "Requirement already satisfied: tensorboard<2.14,>=2.13 in /opt/homebrew/Cellar/jupyterlab/4.0.3/libexec/lib/python3.11/site-packages (from tensorflow-macos==2.13.0->tensorflow==2.13.0->-r requirements.txt (line 13)) (2.13.0)\n",
      "Requirement already satisfied: tensorflow-estimator<2.14,>=2.13.0 in /opt/homebrew/Cellar/jupyterlab/4.0.3/libexec/lib/python3.11/site-packages (from tensorflow-macos==2.13.0->tensorflow==2.13.0->-r requirements.txt (line 13)) (2.13.0)\n",
      "Requirement already satisfied: keras<2.14,>=2.13.1 in /opt/homebrew/Cellar/jupyterlab/4.0.3/libexec/lib/python3.11/site-packages (from tensorflow-macos==2.13.0->tensorflow==2.13.0->-r requirements.txt (line 13)) (2.13.1)\n"
     ]
    },
    {
     "name": "stdout",
     "output_type": "stream",
     "text": [
      "Requirement already satisfied: httpcore>=0.17.3 in /opt/homebrew/Cellar/jupyterlab/4.0.3/libexec/lib/python3.11/site-packages (from dnspython<3.0.0,>=1.16.0->pymongo==4.3.3->-r requirements.txt (line 6)) (0.17.3)\n",
      "Requirement already satisfied: sniffio<2.0,>=1.1 in /opt/homebrew/Cellar/jupyterlab/4.0.3/libexec/lib/python3.11/site-packages (from dnspython<3.0.0,>=1.16.0->pymongo==4.3.3->-r requirements.txt (line 6)) (1.3.0)\n",
      "Requirement already satisfied: MarkupSafe>=2.0 in /opt/homebrew/Cellar/jupyterlab/4.0.3/libexec/lib/python3.11/site-packages (from Jinja2>=3.0->flask==2.0.2->-r requirements.txt (line 1)) (2.1.3)\n",
      "Requirement already satisfied: jsonschema-specifications>=2023.03.6 in /opt/homebrew/Cellar/jupyterlab/4.0.3/libexec/lib/python3.11/site-packages (from jsonschema->dice-ml==0.9->-r requirements.txt (line 10)) (2023.6.1)\n",
      "Requirement already satisfied: referencing>=0.28.4 in /opt/homebrew/Cellar/jupyterlab/4.0.3/libexec/lib/python3.11/site-packages (from jsonschema->dice-ml==0.9->-r requirements.txt (line 10)) (0.29.1)\n",
      "Requirement already satisfied: rpds-py>=0.7.1 in /opt/homebrew/Cellar/jupyterlab/4.0.3/libexec/lib/python3.11/site-packages (from jsonschema->dice-ml==0.9->-r requirements.txt (line 10)) (0.8.10)\n",
      "Requirement already satisfied: contourpy>=1.0.1 in /opt/homebrew/Cellar/jupyterlab/4.0.3/libexec/lib/python3.11/site-packages (from matplotlib->lime==0.2.0.1->-r requirements.txt (line 12)) (1.1.0)\n",
      "Requirement already satisfied: cycler>=0.10 in /opt/homebrew/Cellar/jupyterlab/4.0.3/libexec/lib/python3.11/site-packages (from matplotlib->lime==0.2.0.1->-r requirements.txt (line 12)) (0.11.0)\n",
      "Requirement already satisfied: fonttools>=4.22.0 in /opt/homebrew/Cellar/jupyterlab/4.0.3/libexec/lib/python3.11/site-packages (from matplotlib->lime==0.2.0.1->-r requirements.txt (line 12)) (4.41.1)\n",
      "Requirement already satisfied: kiwisolver>=1.0.1 in /opt/homebrew/Cellar/jupyterlab/4.0.3/libexec/lib/python3.11/site-packages (from matplotlib->lime==0.2.0.1->-r requirements.txt (line 12)) (1.4.4)\n",
      "Requirement already satisfied: pyparsing<3.1,>=2.3.1 in /opt/homebrew/Cellar/jupyterlab/4.0.3/libexec/lib/python3.11/site-packages (from matplotlib->lime==0.2.0.1->-r requirements.txt (line 12)) (3.0.9)\n",
      "Requirement already satisfied: wheel<1.0,>=0.23.0 in /opt/homebrew/lib/python3.11/site-packages (from astunparse>=1.6.0->tensorflow-macos==2.13.0->tensorflow==2.13.0->-r requirements.txt (line 13)) (0.40.0)\n",
      "Requirement already satisfied: h11<0.15,>=0.13 in /opt/homebrew/Cellar/jupyterlab/4.0.3/libexec/lib/python3.11/site-packages (from httpcore>=0.17.3->dnspython<3.0.0,>=1.16.0->pymongo==4.3.3->-r requirements.txt (line 6)) (0.14.0)\n",
      "Requirement already satisfied: anyio<5.0,>=3.0 in /opt/homebrew/Cellar/jupyterlab/4.0.3/libexec/lib/python3.11/site-packages (from httpcore>=0.17.3->dnspython<3.0.0,>=1.16.0->pymongo==4.3.3->-r requirements.txt (line 6)) (3.7.1)\n",
      "Requirement already satisfied: certifi in /opt/homebrew/Cellar/jupyterlab/4.0.3/libexec/lib/python3.11/site-packages (from httpcore>=0.17.3->dnspython<3.0.0,>=1.16.0->pymongo==4.3.3->-r requirements.txt (line 6)) (2023.5.7)\n",
      "Requirement already satisfied: google-auth<3,>=1.6.3 in /opt/homebrew/Cellar/jupyterlab/4.0.3/libexec/lib/python3.11/site-packages (from tensorboard<2.14,>=2.13->tensorflow-macos==2.13.0->tensorflow==2.13.0->-r requirements.txt (line 13)) (2.22.0)\n",
      "Requirement already satisfied: google-auth-oauthlib<1.1,>=0.5 in /opt/homebrew/Cellar/jupyterlab/4.0.3/libexec/lib/python3.11/site-packages (from tensorboard<2.14,>=2.13->tensorflow-macos==2.13.0->tensorflow==2.13.0->-r requirements.txt (line 13)) (1.0.0)\n",
      "Requirement already satisfied: markdown>=2.6.8 in /opt/homebrew/Cellar/jupyterlab/4.0.3/libexec/lib/python3.11/site-packages (from tensorboard<2.14,>=2.13->tensorflow-macos==2.13.0->tensorflow==2.13.0->-r requirements.txt (line 13)) (3.4.3)\n",
      "Requirement already satisfied: requests<3,>=2.21.0 in /opt/homebrew/Cellar/jupyterlab/4.0.3/libexec/lib/python3.11/site-packages (from tensorboard<2.14,>=2.13->tensorflow-macos==2.13.0->tensorflow==2.13.0->-r requirements.txt (line 13)) (2.31.0)\n",
      "Requirement already satisfied: tensorboard-data-server<0.8.0,>=0.7.0 in /opt/homebrew/Cellar/jupyterlab/4.0.3/libexec/lib/python3.11/site-packages (from tensorboard<2.14,>=2.13->tensorflow-macos==2.13.0->tensorflow==2.13.0->-r requirements.txt (line 13)) (0.7.1)\n",
      "Requirement already satisfied: idna>=2.8 in /opt/homebrew/Cellar/jupyterlab/4.0.3/libexec/lib/python3.11/site-packages (from anyio<5.0,>=3.0->httpcore>=0.17.3->dnspython<3.0.0,>=1.16.0->pymongo==4.3.3->-r requirements.txt (line 6)) (3.4)\n",
      "Requirement already satisfied: cachetools<6.0,>=2.0.0 in /opt/homebrew/Cellar/jupyterlab/4.0.3/libexec/lib/python3.11/site-packages (from google-auth<3,>=1.6.3->tensorboard<2.14,>=2.13->tensorflow-macos==2.13.0->tensorflow==2.13.0->-r requirements.txt (line 13)) (5.3.1)\n",
      "Requirement already satisfied: pyasn1-modules>=0.2.1 in /opt/homebrew/Cellar/jupyterlab/4.0.3/libexec/lib/python3.11/site-packages (from google-auth<3,>=1.6.3->tensorboard<2.14,>=2.13->tensorflow-macos==2.13.0->tensorflow==2.13.0->-r requirements.txt (line 13)) (0.3.0)\n",
      "Requirement already satisfied: rsa<5,>=3.1.4 in /opt/homebrew/Cellar/jupyterlab/4.0.3/libexec/lib/python3.11/site-packages (from google-auth<3,>=1.6.3->tensorboard<2.14,>=2.13->tensorflow-macos==2.13.0->tensorflow==2.13.0->-r requirements.txt (line 13)) (4.9)\n",
      "Requirement already satisfied: urllib3<2.0 in /opt/homebrew/Cellar/jupyterlab/4.0.3/libexec/lib/python3.11/site-packages (from google-auth<3,>=1.6.3->tensorboard<2.14,>=2.13->tensorflow-macos==2.13.0->tensorflow==2.13.0->-r requirements.txt (line 13)) (1.26.16)\n",
      "Requirement already satisfied: requests-oauthlib>=0.7.0 in /opt/homebrew/Cellar/jupyterlab/4.0.3/libexec/lib/python3.11/site-packages (from google-auth-oauthlib<1.1,>=0.5->tensorboard<2.14,>=2.13->tensorflow-macos==2.13.0->tensorflow==2.13.0->-r requirements.txt (line 13)) (1.3.1)\n",
      "Requirement already satisfied: charset-normalizer<4,>=2 in /opt/homebrew/Cellar/jupyterlab/4.0.3/libexec/lib/python3.11/site-packages (from requests<3,>=2.21.0->tensorboard<2.14,>=2.13->tensorflow-macos==2.13.0->tensorflow==2.13.0->-r requirements.txt (line 13)) (3.2.0)\n",
      "Requirement already satisfied: pyasn1<0.6.0,>=0.4.6 in /opt/homebrew/Cellar/jupyterlab/4.0.3/libexec/lib/python3.11/site-packages (from pyasn1-modules>=0.2.1->google-auth<3,>=1.6.3->tensorboard<2.14,>=2.13->tensorflow-macos==2.13.0->tensorflow==2.13.0->-r requirements.txt (line 13)) (0.5.0)\n",
      "Requirement already satisfied: oauthlib>=3.0.0 in /opt/homebrew/Cellar/jupyterlab/4.0.3/libexec/lib/python3.11/site-packages (from requests-oauthlib>=0.7.0->google-auth-oauthlib<1.1,>=0.5->tensorboard<2.14,>=2.13->tensorflow-macos==2.13.0->tensorflow==2.13.0->-r requirements.txt (line 13)) (3.2.2)\n",
      "\n",
      "\u001b[1m[\u001b[0m\u001b[34;49mnotice\u001b[0m\u001b[1;39;49m]\u001b[0m\u001b[39;49m A new release of pip is available: \u001b[0m\u001b[31;49m23.0.1\u001b[0m\u001b[39;49m -> \u001b[0m\u001b[32;49m23.2.1\u001b[0m\n",
      "\u001b[1m[\u001b[0m\u001b[34;49mnotice\u001b[0m\u001b[1;39;49m]\u001b[0m\u001b[39;49m To update, run: \u001b[0m\u001b[32;49mpython3.11 -m pip install --upgrade pip\u001b[0m\n",
      "Note: you may need to restart the kernel to use updated packages.\n"
     ]
    }
   ],
   "source": [
    "pip install -r requirements.txt"
   ]
  },
  {
   "cell_type": "markdown",
   "metadata": {},
   "source": [
    "Step 0:Setup"
   ]
  },
  {
   "cell_type": "code",
   "execution_count": 129,
   "metadata": {
    "is_executing": true
   },
   "outputs": [],
   "source": [
    "import tensorflow as tf\n",
    "from tensorflow.keras.applications.resnet50 import ResNet50, preprocess_input, decode_predictions\n",
    "from tensorflow.keras.preprocessing.image import img_to_array\n",
    "\n",
    "blackbox_model = ResNet50(weights='imagenet', include_top=True, input_shape=(224, 224, 3))\n",
    "\n",
    "def preprocess_images(img_array):\n",
    "    img_array = np.array([tf.image.resize(img_to_array(img), (224, 224)) for img in img_array])\n",
    "    return preprocess_input(img_array)\n",
    "\n",
    "def black_box_classify(img_array,convert_to_nr=True):\n",
    "    preprocessed_imgs = preprocess_images(img_array)\n",
    "    predictions = blackbox_model.predict(preprocessed_imgs)\n",
    "    prediction_labels = decode_predictions(predictions, top = 1)\n",
    "    labels_as_str = [row[0][1] for row in prediction_labels]\n",
    "    if convert_to_nr:\n",
    "        label_as_nr = label_encoder.transform(labels_as_str)\n",
    "        return [[l]for l in label_as_nr]\n",
    "    return [[l]for l in labels_as_str]\n",
    "\n",
    "def black_box_lime(temp):\n",
    "    resized_temp = resize(temp, (224, 224), mode='reflect', preserve_range=True).astype(np.uint8)\n",
    "    resized_temp = np.expand_dims(resized_temp, axis=0)\n",
    "    predictions = blackbox_model.predict(resized_temp)\n",
    "    prediction_labels = decode_predictions(predictions, top = 1)\n",
    "    labels_as_str = [row[0][1] for row in prediction_labels]\n",
    "    label_as_nr = label_encoder.transform(labels_as_str)\n",
    "    return [[l]for l in label_as_nr]"
   ]
  },
  {
   "cell_type": "code",
   "execution_count": 69,
   "metadata": {
    "is_executing": true
   },
   "outputs": [
    {
     "name": "stdout",
     "output_type": "stream",
     "text": [
      "1/1 [==============================] - 1s 666ms/step\n"
     ]
    }
   ],
   "source": [
    "import numpy as np\n",
    "import pickle\n",
    "import hashlib\n",
    "import pandas as pd\n",
    "\n",
    "np.random.seed(42)\n",
    "\n",
    "base_path = \"/Users/karlgustav/Documents/GitHub/study/master-thesis/server/src/research/\"\n",
    "# base_path = \"/Users/karl-gustav.kallasmaa/Documents/Projects/master-thesis/server/src/\"\n",
    "all_labels_path = f\"{base_path}all_classes.txt\"\n",
    "masks_path = f\"{base_path}data/masks.pkl\"\n",
    "img_path = f\"{base_path}data/resized_imgs.pkl\"\n",
    "labels_path = f\"{base_path}data/classes.pkl\"\n",
    "ade_path = f\"{base_path}data/objectInfo150.csv\"\n",
    "\n",
    "ade_classes = pd.read_csv(ade_path)\n",
    "\n",
    "labels = []\n",
    "images = []\n",
    "masks = []\n",
    "unique_labels = []\n",
    "with open(masks_path, 'rb') as f:\n",
    "    masks = pickle.load(f)\n",
    "with open(img_path, 'rb') as f:\n",
    "    images = pickle.load(f)\n",
    "with open(all_labels_path) as f:\n",
    "    lines = f.read().splitlines()\n",
    "    lines = [l.replace(' ', '_') for l in lines]\n",
    "    unique_labels = np.array(list(set(lines)))\n",
    "    \n",
    "all_concept_values = ade_classes['Name'].tolist()\n",
    "UNIQUE_CONCEPT_VALUES = sorted(list(set(all_concept_values)))\n",
    "NR_OF_UNIQUE_CONCEPTS = len(UNIQUE_CONCEPT_VALUES)\n",
    "\n",
    "\n",
    "image_hex_index_map = {hashlib.sha1(np.array(img).view(np.uint8)).hexdigest(): i for i,img in enumerate(images)}\n",
    "\n",
    "index_img_map = {i:img for i,img in enumerate(images)}\n",
    "#index_label_map = {i:label for i,label in enumerate(labels)}\n",
    "index_mask_map = {i:mask for i,mask in enumerate(masks)}\n",
    "index_ade_map = {i:ade for i,ade in enumerate(ade_classes)}\n",
    "\n",
    "test_size = 0.01 # 1%\n",
    "\n",
    "random_indexes = np.random.choice(list(index_img_map.keys()), int(test_size*len(index_img_map.keys())), replace=False)\n",
    "\n",
    "random_images = [index_img_map[index] for index in random_indexes]\n",
    "#random_labels = np.array([index_label_map[index] for index in random_indexes])\n",
    "random_masks = [index_mask_map[index] for index in random_indexes]\n",
    "random_labels = black_box_classify(random_images,False)"
   ]
  },
  {
   "cell_type": "code",
   "execution_count": 3,
   "metadata": {},
   "outputs": [],
   "source": [
    "from typing import List\n",
    "from sklearn import preprocessing\n",
    "\n",
    "def encode_categorical_values(values: List[str]):\n",
    "    unique_values = sorted(list(set(values)))\n",
    "    le = preprocessing.LabelEncoder()\n",
    "    le.fit(unique_values)\n",
    "    return le\n",
    "label_encoder = encode_categorical_values(unique_labels)"
   ]
  },
  {
   "cell_type": "markdown",
   "metadata": {},
   "source": [
    "Step 1: Get lime predictions"
   ]
  },
  {
   "cell_type": "code",
   "execution_count": null,
   "metadata": {
    "is_executing": true
   },
   "outputs": [],
   "source": [
    "from lime import lime_image,lime_tabular\n",
    "from skimage.transform import resize\n",
    "\n",
    "\n",
    "def explain_with_lime_OLD(images,labels):\n",
    "    explainer = lime_image.LimeImageExplainer()\n",
    "    explanations = []\n",
    "    for i,image in enumerate(images):\n",
    "        explanation = explainer.explain_instance(np.array(image),\n",
    "                                                 labels=[labels[i]],\n",
    "                                                 classifier_fn=black_box_classify,\n",
    "                                                 top_labels=3,\n",
    "                                                 batch_size=100,\n",
    "                                                 num_samples=100,\n",
    "                                                 hide_color=None)\n",
    "        #print(explanation)\n",
    "        print(explanation.top_labels)\n",
    "        most_probable_label = explanation.top_labels[0]\n",
    "        explanations.append(most_probable_label)\n",
    "    return explanations\n",
    "\n",
    "def explain_with_lime_tab(images,labels):\n",
    "    img_arr = [np.array(image) for image in images]\n",
    "    explainer = lime_tabular.LimeTabularExplainer(training_data=img_arr,feature_names=[\"1\",\"2\",\"3\"])\n",
    "    explanations = []\n",
    "    return explanations\n",
    "\n",
    "\n",
    "def explain_with_lime(images,labels):\n",
    "    update_labels = [l[0] for l in labels]\n",
    "    explainer = lime_image.LimeImageExplainer()\n",
    "    explanations = []\n",
    "    for i,image in enumerate(images):\n",
    "        lime_img_exp = explainer.explain_instance(np.array(image),\n",
    "                                               #  labels=update_labels,\n",
    "                                                 classifier_fn=black_box_classify,\n",
    "                                                 top_labels=3,\n",
    "                                                 batch_size=100,\n",
    "                                                 num_samples=150,\n",
    "                                                 hide_color=None)\n",
    "        \n",
    "        temp, mask = lime_img_exp.get_image_and_mask(lime_img_exp.top_labels[0], positive_only=False, num_features=10, hide_rest=False)\n",
    "        prediction_on_temp = black_box_lime(temp)\n",
    "        explanations.append(prediction_on_temp[0])\n",
    "    return explanations\n",
    "\n",
    "lime_predictions = explain_with_lime(random_images[0:2],random_labels[0:2])"
   ]
  },
  {
   "cell_type": "code",
   "execution_count": 131,
   "metadata": {},
   "outputs": [
    {
     "name": "stdout",
     "output_type": "stream",
     "text": [
      "[[[819]], [[568]]]\n"
     ]
    }
   ],
   "source": [
    "print(lime_predictions)"
   ]
  },
  {
   "cell_type": "markdown",
   "metadata": {},
   "source": [
    "Step 2: Get concept-based desision tree explanations"
   ]
  },
  {
   "cell_type": "code",
   "execution_count": 7,
   "metadata": {
    "is_executing": true
   },
   "outputs": [],
   "source": [
    "from operator import itemgetter\n",
    "from typing import Dict, List\n",
    "\n",
    "def get_segments(img, mask, threshold=0.05):\n",
    "    segs = np.unique(mask)\n",
    "    segments = []\n",
    "    total = mask.shape[0] * mask.shape[1]\n",
    "    segments_classes = []\n",
    "    for seg in segs:\n",
    "        idxs = mask == seg\n",
    "        sz = np.sum(idxs)\n",
    "        if sz < threshold * total:\n",
    "            continue\n",
    "        segment = img * idxs[..., None]\n",
    "        w, h, _ = np.nonzero(segment)\n",
    "        segment = segment[np.min(w):np.max(w), np.min(h):np.max(h), :]\n",
    "        segments.append(segment)\n",
    "        segments_classes.append(ade_classes['Name'].loc[ade_classes['Idx'] == seg].iloc[0])\n",
    "    return segments, segments_classes\n",
    "\n",
    "def sort_dictionary(source: Dict[any, any], by_value=True, reverse=True) -> List[any]:\n",
    "    if by_value:\n",
    "        return sorted(source.items(), key=itemgetter(1), reverse=reverse)\n",
    "    return sorted(source.items(), key=itemgetter(0), reverse=reverse)"
   ]
  },
  {
   "cell_type": "code",
   "execution_count": 8,
   "metadata": {
    "is_executing": true
   },
   "outputs": [],
   "source": [
    "from typing import Dict, List\n",
    "from mpire import WorkerPool\n",
    "from functools import reduce\n",
    "\n",
    "class MostPopularConcepts:\n",
    "    BATCH_SIZE = 10\n",
    "    MAX_WORKER_COUNT = 8\n",
    "\n",
    "    def __init__(self,l_labels,i_images,m_maks):\n",
    "        all_labels = np.array(l_labels)\n",
    "        chunk_size = max(1, int(all_labels.size / self.BATCH_SIZE))\n",
    "        self.labels_in_chunks = np.array_split(all_labels, chunk_size)\n",
    "        self.nr_of_jobs = min(self.MAX_WORKER_COUNT, len(self.labels_in_chunks))\n",
    "\n",
    "        self.label_images_map = {}\n",
    "        self.label_masks_map = {}\n",
    "\n",
    "        self.image_most_popular_concepts = self.static_most_popular_concepts(l_labels,i_images,m_maks)\n",
    "\n",
    "    def static_most_popular_concepts(self,l_labels,i_images,m_maks) -> Dict[str, List[any]]:\n",
    "        for label, image, mask in zip(l_labels,i_images,m_maks):\n",
    "            current_images = self.label_images_map.get(label, [])\n",
    "            current_maks = self.label_masks_map.get(label, [])\n",
    "\n",
    "            current_images.append(image)\n",
    "            current_maks.append(mask)\n",
    "\n",
    "            self.label_images_map[label] = current_images\n",
    "            self.label_masks_map[label] = current_maks\n",
    "\n",
    "        with WorkerPool(n_jobs=self.nr_of_jobs) as pool:\n",
    "            return reduce(lambda a, b: {**a, **b},\n",
    "                          pool.map(self.__extract_most_popular_concepts, self.labels_in_chunks))\n",
    "\n",
    "    def __extract_most_popular_concepts(self, l_labels: List[str]) -> Dict[str, List[any]]:\n",
    "        partial_results = {}\n",
    "        for label in  l_labels:\n",
    "            i_images = self.label_images_map[label]\n",
    "            m_masks = self.label_masks_map[label]\n",
    "            nr_of_images = len(i_images)\n",
    "            partial_results[label] = self.most_popular_concepts(images,m_masks, nr_of_images)\n",
    "        return partial_results\n",
    "\n",
    "    @staticmethod\n",
    "    def most_popular_concepts(i_images, m_masks, k) -> List[str]:\n",
    "        segment_count = {}\n",
    "        for pic, mask in zip(i_images, m_masks):\n",
    "            try:\n",
    "                _, seg_class = get_segments(np.array(pic), mask, threshold=0.005)\n",
    "                for s in seg_class:\n",
    "                    segment_count[s] = segment_count.get(s, 0) + 1\n",
    "            except:\n",
    "                continue\n",
    "        segment_count = sort_dictionary(segment_count)\n",
    "        return [s for s, _ in segment_count[:k]]"
   ]
  },
  {
   "cell_type": "code",
   "execution_count": 9,
   "metadata": {},
   "outputs": [],
   "source": [
    "MOST_POPULAR_CONCEPTS = MostPopularConcepts(labels,images,masks).image_most_popular_concepts"
   ]
  },
  {
   "cell_type": "code",
   "execution_count": 10,
   "metadata": {},
   "outputs": [],
   "source": [
    "from typing import List,Tuple\n",
    "from sklearn import preprocessing\n",
    "from sklearn.model_selection import train_test_split\n",
    "from sklearn.tree import DecisionTreeClassifier\n",
    "\n",
    "\n",
    "def get_segment_relative_size(segment: np.array, picture: np.array) -> float:\n",
    "    segment_area = float(segment.shape[0] * segment.shape[1])\n",
    "    picture_area = float(picture.shape[0] * picture.shape[1])\n",
    "    return round(segment_area / picture_area, 2)\n",
    "\n",
    "\n",
    "def get_training_row(top_concepts_for_label: List[str], pic, mask) -> np.array:\n",
    "    row = np.zeros(NR_OF_UNIQUE_CONCEPTS)\n",
    "    pic_as_array = np.array(pic)\n",
    "    segss, seg_class = get_segments(pic_as_array, mask, threshold=0.005)\n",
    "    for index,concept in enumerate(UNIQUE_CONCEPT_VALUES):\n",
    "        if concept in top_concepts_for_label and concept in seg_class:\n",
    "            segment = segss[seg_class.index(concept)]\n",
    "            row[index] = get_segment_relative_size(segment, pic_as_array)            \n",
    "    return row\n",
    "\n",
    "def train_decision_tree(x, y) -> DecisionTreeClassifier:\n",
    "    X_train, X_test, y_train, y_test = train_test_split(x, y, test_size=0.1, random_state=42)\n",
    "    clf = DecisionTreeClassifier()\n",
    "    clf.fit(X_train, y_train)\n",
    "    return clf"
   ]
  },
  {
   "cell_type": "code",
   "execution_count": 11,
   "metadata": {},
   "outputs": [],
   "source": [
    "def train_concept_explainer(all_labels,all_images,all_masks):\n",
    "    X, y = [], []\n",
    "    for label, pic, mask in zip(all_labels,all_images, all_masks):\n",
    "        most_popular_concepts_for_label = MOST_POPULAR_CONCEPTS[label]\n",
    "        row = get_training_row(most_popular_concepts_for_label, pic, mask)\n",
    "        label_as_nr = label_encoder.transform([label])\n",
    "        X.append(row)\n",
    "        y.append(label_as_nr[0])\n",
    "    return train_decision_tree(X,np.array(y))"
   ]
  },
  {
   "cell_type": "code",
   "execution_count": 12,
   "metadata": {},
   "outputs": [],
   "source": [
    "def explain_with_concepts(images,model):\n",
    "    predictions = []\n",
    "    for img in images:\n",
    "        img_key = hashlib.sha1(np.array(img).view(np.uint8)).hexdigest()\n",
    "        image_index = image_hex_index_map[img_key]\n",
    "        image_label = index_label_map[image_index]\n",
    "\n",
    "        most_popular_concepts_for_label = MOST_POPULAR_CONCEPTS[image_label]\n",
    "        mask = index_mask_map[image_index]\n",
    "        \n",
    "        row = get_training_row(most_popular_concepts_for_label, img, mask)\n",
    "        prediction_as_nr = model.predict([row])\n",
    "        # prediction_as_label = label_encoder.inverse_transform(prediction_as_nr)\n",
    "        predictions.append(prediction_as_nr[0])\n",
    "    return predictions\n",
    "\n",
    "concept_model = train_concept_explainer(labels,images,masks)\n",
    "concept_predictions = explain_with_concepts(random_images,concept_model)"
   ]
  },
  {
   "cell_type": "markdown",
   "metadata": {},
   "source": [
    "Step 3: calculate fidelity"
   ]
  },
  {
   "cell_type": "code",
   "execution_count": 101,
   "metadata": {},
   "outputs": [
    {
     "name": "stdout",
     "output_type": "stream",
     "text": [
      "1/1 [==============================] - 0s 328ms/step\n",
      "blackbox pred\n",
      "[819, 892, 934, 776, 934, 754, 639, 114, 298, 754, 730, 553, 158, 566, 355]\n",
      "lime pred\n",
      "[0, 0]\n",
      "concept pred\n",
      "[179, 657, 506, 330, 270, 186, 788, 124, 270, 186, 422, 489, 143, 662, 763]\n",
      "LIME fidelity 0.0\n",
      "Concept fidelity 0.0\n",
      "Concept fidelity is creater than LIME fidelity by 0.0\n"
     ]
    }
   ],
   "source": [
    "\"\"\"\n",
    "def black_box_models_predictions(image_array):\n",
    "    preprocessed_images = np.array([preprocess_image(i) for i in image_array])\n",
    "    batch_prediction = blackbox_model.predict(preprocessed_images)\n",
    "    prediction_label = decode_predictions(batch_prediction, top=1)\n",
    "    prediction_labels = [p[0][1] for p in prediction_label]\n",
    "    predictions_as_nr = label_encoder.transform(prediction_labels)\n",
    "    return np.array(predictions_as_nr)\n",
    "\"\"\"\n",
    "\n",
    "def fidelity(pred1,pred2):\n",
    "    same = 0\n",
    "    not_same = 0\n",
    "    for p1 in pred1:\n",
    "        for p2 in pred2:\n",
    "            if p1 == p2:\n",
    "                same += 1\n",
    "            else:\n",
    "                not_same += 1\n",
    "    return same / not_same\n",
    "\n",
    "\n",
    "black_box_pred = black_box_classify(random_images)\n",
    "black_box_pred = [p[0] for p in black_box_pred]\n",
    "\n",
    "lime_fidelity = fidelity(pred1=lime_predictions,pred2=black_box_pred)\n",
    "concept_fidelity = fidelity(pred1=concept_predictions,pred2=black_box_pred)\n",
    "\n",
    "print(\"blackbox pred\")\n",
    "print(black_box_pred)\n",
    "print(\"lime pred\")\n",
    "print(lime_predictions)\n",
    "print(\"concept pred\")\n",
    "print(concept_predictions)\n",
    "\n",
    "\n",
    "print(\"LIME fidelity \"+str(lime_fidelity))\n",
    "print(\"Concept fidelity \"+str(concept_fidelity))\n",
    "if lime_fidelity > concept_fidelity:\n",
    "    diff = lime_fidelity - concept_fidelity\n",
    "    print(\"LIME fidelity is greater than concept fidelity by \"+str(diff))\n",
    "else:\n",
    "    diff = concept_fidelity -lime_fidelity\n",
    "    print(\"Concept fidelity is creater than LIME fidelity by \"+str(diff))"
   ]
  },
  {
   "cell_type": "code",
   "execution_count": null,
   "metadata": {},
   "outputs": [],
   "source": []
  }
 ],
 "metadata": {
  "kernelspec": {
   "display_name": "Python 3 (ipykernel)",
   "language": "python",
   "name": "python3"
  },
  "language_info": {
   "codemirror_mode": {
    "name": "ipython",
    "version": 3
   },
   "file_extension": ".py",
   "mimetype": "text/x-python",
   "name": "python",
   "nbconvert_exporter": "python",
   "pygments_lexer": "ipython3",
   "version": "3.11.4"
  },
  "vscode": {
   "interpreter": {
    "hash": "bd385fe162c5ca0c84973b7dd5c518456272446b2b64e67c2a69f949ca7a1754"
   }
  }
 },
 "nbformat": 4,
 "nbformat_minor": 2
}
