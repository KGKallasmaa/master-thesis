{
 "cells": [
  {
   "cell_type": "markdown",
   "source": [
    "Find images to use"
   ],
   "metadata": {
    "collapsed": false
   }
  },
  {
   "cell_type": "code",
   "execution_count": null,
   "outputs": [],
   "source": [
    "pip install -r -q requirements.txt"
   ],
   "metadata": {
    "collapsed": false
   }
  },
  {
   "cell_type": "markdown",
   "source": [
    "Import raw data"
   ],
   "metadata": {
    "collapsed": false
   }
  },
  {
   "cell_type": "code",
   "execution_count": null,
   "outputs": [],
   "source": [
    "import numpy as np\n",
    "import pickle\n",
    "import hashlib\n",
    "import pandas as pd\n",
    "\n",
    "np.random.seed(42)\n",
    "\n",
    "base_path = \"/Users/karlgustav/Documents/GitHub/study/master-thesis/server/src/research/\"\n",
    "# base_path = \"/Users/karl-gustav.kallasmaa/Documents/Projects/master-thesis/server/src/\"\n",
    "all_labels_path = f\"{base_path}all_classes.txt\"\n",
    "masks_path = f\"{base_path}data/masks.pkl\"\n",
    "img_path = f\"{base_path}data/resized_imgs.pkl\"\n",
    "labels_path = f\"{base_path}data/classes.pkl\"\n",
    "ade_path = f\"{base_path}data/objectInfo150.csv\"\n",
    "\n",
    "ade_classes = pd.read_csv(ade_path)\n",
    "\n",
    "images = []\n",
    "masks = []\n",
    "unique_labels = []\n",
    "raw_labels = []\n",
    "with open(masks_path, 'rb') as f:\n",
    "    masks = pickle.load(f)\n",
    "with open(img_path, 'rb') as f:\n",
    "    images = pickle.load(f)\n",
    "with open(all_labels_path) as f:\n",
    "    lines = f.read().splitlines()\n",
    "    lines = [l.replace(' ', '_') for l in lines]\n",
    "    raw_labels = lines\n",
    "    unique_labels = np.array(list(set(lines)))\n",
    "\n",
    "labels = black_box_classify(images,False)\n",
    "labels = [l[0] for l in labels]\n",
    "\n",
    "all_concept_values = ade_classes['Name'].tolist()\n",
    "UNIQUE_CONCEPT_VALUES = sorted(list(set(all_concept_values)))\n",
    "NR_OF_UNIQUE_CONCEPTS = len(UNIQUE_CONCEPT_VALUES)\n",
    "\n",
    "\n",
    "image_hex_index_map = {hashlib.sha1(np.array(img).view(np.uint8)).hexdigest(): i for i,img in enumerate(images)}\n",
    "\n",
    "index_img_map = {i:img for i,img in enumerate(images)}\n",
    "index_label_map = {i:label for i,label in enumerate(labels)}\n",
    "index_mask_map = {i:mask for i,mask in enumerate(masks)}\n",
    "index_ade_map = {i:ade for i,ade in enumerate(ade_classes)}"
   ],
   "metadata": {
    "collapsed": false
   }
  },
  {
   "cell_type": "markdown",
   "source": [
    "Define the blackbox model"
   ],
   "metadata": {
    "collapsed": false
   }
  },
  {
   "cell_type": "code",
   "execution_count": null,
   "outputs": [],
   "source": [
    "from typing import List\n",
    "from sklearn import preprocessing\n",
    "\n",
    "def encode_categorical_values(values: List[str]):\n",
    "    unique_values = sorted(list(set(values)))\n",
    "    le = preprocessing.LabelEncoder()\n",
    "    le.fit(unique_values)\n",
    "    return le\n",
    "label_encoder = encode_categorical_values(unique_labels)"
   ],
   "metadata": {
    "collapsed": false
   }
  },
  {
   "cell_type": "code",
   "execution_count": null,
   "outputs": [],
   "source": [
    "import tensorflow as tf\n",
    "from tensorflow.keras.applications.resnet50 import ResNet50, preprocess_input, decode_predictions\n",
    "from tensorflow.keras.preprocessing.image import img_to_array\n",
    "\n",
    "blackbox_model = ResNet50(weights='imagenet', include_top=True, input_shape=(224, 224, 3))\n",
    "\n",
    "def preprocess_images(img_array):\n",
    "    img_array = np.array([tf.image.resize(img_to_array(img), (224, 224)) for img in img_array])\n",
    "    return preprocess_input(img_array)\n",
    "\n",
    "def black_box_classify(img_array,convert_to_nr=True):\n",
    "    preprocessed_imgs = preprocess_images(img_array)\n",
    "    predictions = blackbox_model.predict(preprocessed_imgs)\n",
    "    prediction_labels = decode_predictions(predictions, top = 1)\n",
    "    labels_as_str = [row[0][1] for row in prediction_labels]\n",
    "    if convert_to_nr:\n",
    "        label_as_nr = label_encoder.transform(labels_as_str)\n",
    "        return [[l]for l in label_as_nr]\n",
    "    return [[l]for l in labels_as_str]"
   ],
   "metadata": {
    "collapsed": false
   }
  },
  {
   "cell_type": "code",
   "execution_count": null,
   "outputs": [],
   "source": [
    "black_box_classified_images = black_box_classify(images)"
   ],
   "metadata": {
    "collapsed": false
   }
  },
  {
   "cell_type": "markdown",
   "source": [
    "Find the image indexes to use"
   ],
   "metadata": {
    "collapsed": false
   }
  },
  {
   "cell_type": "code",
   "execution_count": null,
   "outputs": [],
   "source": [
    "TO_BE_USED_IMAGE_COUNT = 10"
   ],
   "metadata": {
    "collapsed": false
   }
  },
  {
   "cell_type": "code",
   "execution_count": null,
   "outputs": [],
   "source": [
    "def find_suitable_images_indexes(valid_labels,model_predicted_labels):\n",
    "    indexes = []\n",
    "    for i,model_label in enumerate(model_predicted_labels):\n",
    "        if len(indexes) >= TO_BE_USED_IMAGE_COUNT:\n",
    "            break\n",
    "        for label in valid_labels:\n",
    "            if label.contains(model_label):\n",
    "                indexes.append(i)\n",
    "                break\n",
    "    return indexes"
   ],
   "metadata": {
    "collapsed": false
   }
  },
  {
   "cell_type": "code",
   "execution_count": null,
   "outputs": [],
   "source": [
    "suitable_indexes = find_suitable_images_indexes(raw_labels,black_box_classified_images)"
   ],
   "metadata": {
    "collapsed": false
   }
  },
  {
   "cell_type": "markdown",
   "source": [
    "Visualize the images"
   ],
   "metadata": {
    "collapsed": false
   }
  },
  {
   "cell_type": "code",
   "execution_count": null,
   "outputs": [],
   "source": [
    "import matplotlib.pyplot as plt\n",
    "import numpy as np\n",
    "import uuid\n",
    "from PIL import Image\n",
    "import os\n",
    "\n",
    "\n",
    "def temp_img(index):\n",
    "    image_pil = images[index]\n",
    "    temp_image_path = str(uuid.uuid4())+\".jpg\"\n",
    "    image_pil.save(temp_image_path)\n",
    "    return temp_image_path\n",
    "\n",
    "def vizualise_img(path):\n",
    "    open_image = Image.open(path)\n",
    "    plt.imshow(open_image)\n",
    "    plt.axis('off')\n",
    "    plt.show()\n",
    "    os.remove(path)\n",
    "\n",
    "\n",
    "for i in suitable_indexes:\n",
    "    vizualise_img(temp_img(i))"
   ],
   "metadata": {
    "collapsed": false
   }
  }
 ],
 "metadata": {
  "kernelspec": {
   "display_name": "Python 3",
   "language": "python",
   "name": "python3"
  },
  "language_info": {
   "codemirror_mode": {
    "name": "ipython",
    "version": 2
   },
   "file_extension": ".py",
   "mimetype": "text/x-python",
   "name": "python",
   "nbconvert_exporter": "python",
   "pygments_lexer": "ipython2",
   "version": "2.7.6"
  }
 },
 "nbformat": 4,
 "nbformat_minor": 0
}
